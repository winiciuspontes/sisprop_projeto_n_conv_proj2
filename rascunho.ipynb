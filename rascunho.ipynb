{
 "cells": [
  {
   "cell_type": "markdown",
   "metadata": {},
   "source": [
    "# Projeto 2\n",
    "Analise de uma missao lunar usando propulsao elétrica transferencia orbital e umk propelente \n",
    "hipergolico green para o pouso.\n",
    "\n",
    "Dados:\n",
    "- Efeito hall \n",
    "-  Propelente: Xenônio\n",
    "- ISP = 1500-3000s\n",
    "- Empuxo = 50mN-500mN\n",
    "\n",
    "Requisitos da Missão:\n",
    "- ∆𝑉𝑚𝑖𝑠𝑠𝑜𝑛 ~ 4 km/s (GTO -> Órbita Lunar)\n",
    "- 𝑚𝑠𝑝𝑎𝑐𝑒𝑐𝑟𝑎𝑓𝑡: 8 ton (sonda lunar)\n",
    "- Dica: Usar a missão SMART-1 como referência\n",
    "\n",
    "Atividades:\n",
    "- Calcular a massa de combustível para transferir o veículo de uma órbita GTO para uma órbita lunar.\n",
    "-  Estimar a potência necessária e as massa inertes dos componentes.\n",
    "-  Considerando que a energia que alimenta os propulsores vem dos painéis solares. Estime sua massa e dimensões.\n",
    "-  Avaliar um sistema de propulsão hipergólico green para o pouso.\n"
   ]
  },
  {
   "cell_type": "code",
   "execution_count": 47,
   "metadata": {},
   "outputs": [],
   "source": [
    "\n",
    "# inputs smart 1 -> xenonio;\n",
    "isp = 1640\n",
    "empuxo = 68 * (10**-3)\n",
    "delta_v = 4000\n",
    "\n",
    "# massas\n",
    "\n",
    "m_0 =  8000\n",
    "m_prop_ponto =  4.226647771064867e-06\n",
    "m_prop =  142.42112329380174\n",
    "# pe =  911.6760000000002\n",
    "m_pp =  7490.578876706199\n",
    "delta_v =  4000\n",
    "a =  0.00011870845204178538\n",
    "\n"
   ]
  },
  {
   "cell_type": "code",
   "execution_count": 54,
   "metadata": {},
   "outputs": [
    {
     "data": {
      "text/plain": [
       "30.719632319999995"
      ]
     },
     "execution_count": 54,
     "metadata": {},
     "output_type": "execute_result"
    }
   ],
   "source": [
    "Energia = 911.67 * 13 * (60 * 60 * 24 * 30) # GigaJ \n",
    "Energia / (10**9)"
   ]
  },
  {
   "cell_type": "code",
   "execution_count": null,
   "metadata": {},
   "outputs": [],
   "source": []
  },
  {
   "cell_type": "code",
   "execution_count": 56,
   "metadata": {},
   "outputs": [
    {
     "data": {
      "text/plain": [
       "1761.0293913807227"
      ]
     },
     "execution_count": 56,
     "metadata": {},
     "output_type": "execute_result"
    }
   ],
   "source": [
    "import numpy as np\n",
    "\n",
    "theta = np.exp(delta_v / (9.81 * isp))\n",
    "\n",
    "8000 - (8000 / theta)\n",
    "\n"
   ]
  },
  {
   "cell_type": "code",
   "execution_count": 57,
   "metadata": {},
   "outputs": [
    {
     "data": {
      "text/plain": [
       "5871.970608619277"
      ]
     },
     "execution_count": 57,
     "metadata": {},
     "output_type": "execute_result"
    }
   ],
   "source": [
    "8000 - 1761.0293913807227 - 367"
   ]
  },
  {
   "cell_type": "code",
   "execution_count": null,
   "metadata": {},
   "outputs": [],
   "source": []
  },
  {
   "cell_type": "code",
   "execution_count": null,
   "metadata": {},
   "outputs": [],
   "source": []
  },
  {
   "cell_type": "code",
   "execution_count": null,
   "metadata": {},
   "outputs": [],
   "source": []
  },
  {
   "cell_type": "code",
   "execution_count": 41,
   "metadata": {},
   "outputs": [
    {
     "name": "stdout",
     "output_type": "stream",
     "text": [
      "parametros[\"m_ponto_prop\"]=4.226647771064867e-06\n"
     ]
    }
   ],
   "source": [
    "import numpy as np\n",
    "\n",
    "def calculando_tempo(parametros):\n",
    "    tal = parametros[\"m_total\"] / parametros[\"m_ponto_prop\"]\n",
    "    tf = tal * (1 - np.exp((-parametros[\"delta_v\"] / (parametros[\"g0\"] * parametros[\"isp\"])))) # segundos\n",
    "    conversao = (60 * 60 * 24 * 30)\n",
    "    tempo_meses = tf / conversao # meses\n",
    "    return tempo_meses\n",
    "\n",
    "\n",
    "parametros = {\n",
    "    \"isp\" : 1640,\n",
    "    \"m_total\" : 8000,\n",
    "    \"empuxo\" : 68 * (10**-3),\n",
    "    \"delta_v\" : 4000,\n",
    "    \"g0\": 9.81,\n",
    "    \"nt\": 0.5\n",
    "}\n",
    "\n",
    "parametros[\"m_ponto_prop\"] = parametros[\"empuxo\"] / (parametros[\"isp\"] * parametros[\"g0\"])\n",
    "print(f'{parametros[\"m_ponto_prop\"]=}')\n"
   ]
  },
  {
   "cell_type": "code",
   "execution_count": 45,
   "metadata": {},
   "outputs": [
    {
     "data": {
      "text/plain": [
       "1761.0293913807222"
      ]
     },
     "execution_count": 45,
     "metadata": {},
     "output_type": "execute_result"
    }
   ],
   "source": [
    "tempo_meses = calculando_tempo(parametros)\n",
    "tempo_segundos = tempo_meses * (60 * 60 * 24 * 30)\n",
    "m_prop = tempo_segundos * parametros[\"m_ponto_prop\"]\n",
    "m_prop"
   ]
  },
  {
   "cell_type": "code",
   "execution_count": 46,
   "metadata": {},
   "outputs": [
    {
     "data": {
      "text/plain": [
       "142.42112329380174"
      ]
     },
     "execution_count": 46,
     "metadata": {},
     "output_type": "execute_result"
    }
   ],
   "source": [
    "n_meses = 13\n",
    "tempo_smart = 13 * 30 * 24 * 3600\n",
    "tempo_smart * parametros[\"m_ponto_prop\"]"
   ]
  },
  {
   "cell_type": "code",
   "execution_count": null,
   "metadata": {},
   "outputs": [],
   "source": []
  }
 ],
 "metadata": {
  "language_info": {
   "name": "python"
  }
 },
 "nbformat": 4,
 "nbformat_minor": 2
}
